{
 "cells": [
  {
   "cell_type": "code",
   "execution_count": null,
   "metadata": {
    "collapsed": true
   },
   "outputs": [],
   "source": [
    "import pandas as pd\n",
    "import numpy as np\n",
    "import networkx as nx\n",
    "\n",
    "#create sparse matrix from adjacency matrix and save it as tsv file\n",
    "#write network into fml file acceptable by cytoscape\n",
    "for fl in os.listdir('/home/osboxes/data/'):\n",
    "    os.chdir('/home/osboxes/data')\n",
    "    fname=fl.split('.')[0]\n",
    "    df=pd.read_csv('/home/osboxes/data/'+fl,sep ='\\t',engine='python')\n",
    "    index=['gene_id','Unnamed: 0']\n",
    "    for e in index:\n",
    "        if e in df.columns:\n",
    "            data=df.set_index(e)\n",
    "            nodelist=list(data.columns)\n",
    "            data.index.name = None\n",
    "            G=nx.to_networkx_graph(data)\n",
    "    Graph=G\n",
    "#    with open('/home/osboxes/data/Graph/'+fname+'.graphml', 'w+') as f:\n",
    " #       nx.write_graphml(Graph,f,prettyprint=True)\n",
    "        \n",
    "    S = nx.to_scipy_sparse_matrix(Graph, nodelist=nodelist)\n",
    "    new=open('/home/osboxes/sparse/'+fname+'.tsv','w+')\n",
    "    Final=S.A\n",
    "    for (v,y),val in np.ndenumerate(Final):\n",
    "           new.write('%s%s%s%s%s%s' %(nodelist[v],'\\t',val,'\\t',nodelist[y],'\\n'))\n",
    "    new.close()"
   ]
  }
 ],
 "metadata": {
  "kernelspec": {
   "display_name": "Python 2",
   "language": "python",
   "name": "python2"
  },
  "language_info": {
   "codemirror_mode": {
    "name": "ipython",
    "version": 2
   },
   "file_extension": ".py",
   "mimetype": "text/x-python",
   "name": "python",
   "nbconvert_exporter": "python",
   "pygments_lexer": "ipython2",
   "version": "2.7.14"
  }
 },
 "nbformat": 4,
 "nbformat_minor": 2
}
