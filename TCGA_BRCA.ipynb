{
 "cells": [
  {
   "cell_type": "code",
   "execution_count": 1,
   "metadata": {
    "collapsed": false
   },
   "outputs": [],
   "source": [
    "import pandas as pd\n",
    "import numpy as np\n",
    "import networkx as nx\n",
    "import os"
   ]
  },
  {
   "cell_type": "code",
   "execution_count": null,
   "metadata": {
    "collapsed": false
   },
   "outputs": [],
   "source": [
    "#Read huge data file\n",
    "tp=pd.read_csv('TCGA_BRCA_erneg_RNAseq.txt',sep='\\t',iterator=True, chunksize=1000)\n",
    "df =pd.concat(tp, ignore_index=True)\n",
    "#Transpose the matrix\n",
    "new=df.set_index('Gene').T\n",
    "adj_pcc = new.corr(method = 'pearson')\n",
    "#adj_pcc.to_csv('TCGA_BRCA_erneg_RNAseq_corr.csv',sep='\\t')\n",
    "#Build the network\n",
    "G=nx.to_networkx_graph(adj_pcc)\n",
    "Graph=G\n",
    "with open('TCGA_BRCA_erneg.graphml', 'w+') as f:\n",
    "      nx.write_graphml(Graph,'TCGA_BRCA_erneg.graphml',prettyprint=True)"
   ]
  },
  {
   "cell_type": "code",
   "execution_count": null,
   "metadata": {
    "collapsed": true
   },
   "outputs": [],
   "source": [
    "tp=pd.read_csv('TCGA_BRCA_erpos_RNAseq.txt',sep='\\t',iterator=True, chunksize=1000)\n",
    "data_T1 =pd.concat(tp, ignore_index=True)\n",
    "new1=data_T1.set_index('Gene').T\n",
    "adj_pcc1 = new1.corr(method = 'pearson')\n",
    "#adj_pcc1.to_csv('TCGA_BRCA_erpos_RNAseq_corr.csv',sep='\\t')\n",
    "G=nx.to_networkx_graph(adj_pcc1)\n",
    "Graph1=G\n",
    "with open('TCGA_BRCA_erpos.graphml', 'w+') as f:\n",
    "      nx.write_graphml(Graph,'TCGA_BRCA_erpos.graphml',prettyprint=True)"
   ]
  }
 ],
 "metadata": {
  "kernelspec": {
   "display_name": "Python 3",
   "language": "python",
   "name": "python3"
  },
  "language_info": {
   "codemirror_mode": {
    "name": "ipython",
    "version": 3
   },
   "file_extension": ".py",
   "mimetype": "text/x-python",
   "name": "python",
   "nbconvert_exporter": "python",
   "pygments_lexer": "ipython3",
   "version": "3.6.3"
  }
 },
 "nbformat": 4,
 "nbformat_minor": 2
}
